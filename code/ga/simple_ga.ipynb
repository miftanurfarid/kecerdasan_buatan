{
 "cells": [
  {
   "cell_type": "markdown",
   "metadata": {},
   "source": [
    "# Pseudocode dari Algoritma Genetika\n",
    "\n",
    "```bash\n",
    "START\n",
    "Generate the initial population\n",
    "Compute fitness\n",
    "REPEAT\n",
    "    Selection\n",
    "    Crossover   \n",
    "    Mutation    \n",
    "    Compute fitness\n",
    "UNTIL population has converged\n",
    "STOP\n",
    "```"
   ]
  },
  {
   "cell_type": "code",
   "execution_count": 1,
   "metadata": {},
   "outputs": [
    {
     "name": "stdout",
     "output_type": "stream",
     "text": [
      "jumlah item =  4\n",
      "jumlah komb =  16\n",
      "Generate population\n",
      "\n",
      "Generasi ke 0\n",
      "Selection\n",
      "Crossover\n",
      "Mutation\n",
      "Compute fitness\n",
      "\n",
      "Generasi ke 1\n",
      "Selection\n",
      "Crossover\n",
      "Mutation\n",
      "Compute fitness\n",
      "\n",
      "Generasi ke 2\n",
      "Selection\n",
      "Crossover\n",
      "Mutation\n",
      "Compute fitness\n",
      "\n",
      "Generasi ke 3\n",
      "Selection\n",
      "Crossover\n",
      "Mutation\n",
      "Compute fitness\n",
      "\n",
      "Generasi ke 4\n",
      "Selection\n",
      "Crossover\n",
      "Mutation\n",
      "Compute fitness\n"
     ]
    }
   ],
   "source": [
    "import random\n",
    "import numpy\n",
    "\n",
    "v = [10, 5, 4, 12]\n",
    "w = [5, 0.4, 1, 0.5]\n",
    "max_w = 6\n",
    "n_item = len(v)\n",
    "n_kombinasi = 2**n_item\n",
    "n_populasi = 8\n",
    "n_bit = n_item\n",
    "print('jumlah item = ', n_item)\n",
    "print('jumlah komb = ', n_kombinasi)\n",
    "\n",
    "def decimal_to_binary(num):\n",
    "    return bin(num).replace(\"0b\", \"\").zfill(n_bit)\n",
    "\n",
    "\n",
    "def generate_population():\n",
    "    print('Generate population')\n",
    "    pass\n",
    "\n",
    "def compute_fitness():\n",
    "    print('Compute fitness')\n",
    "    pass\n",
    "\n",
    "def selection():\n",
    "    print('Selection')\n",
    "    pass\n",
    "\n",
    "def crossover():\n",
    "    print('Crossover')\n",
    "    pass\n",
    "\n",
    "def mutation():\n",
    "    print('Mutation')\n",
    "    pass\n",
    "\n",
    "\n",
    "generate_population()\n",
    "\n",
    "for i in range(5):\n",
    "    print(f'\\nGenerasi ke {i}')\n",
    "    selection()\n",
    "    crossover()\n",
    "    mutation()\n",
    "    compute_fitness()"
   ]
  },
  {
   "cell_type": "code",
   "execution_count": null,
   "metadata": {},
   "outputs": [],
   "source": []
  }
 ],
 "metadata": {
  "kernelspec": {
   "display_name": "Python 3 (ipykernel)",
   "language": "python",
   "name": "python3"
  },
  "language_info": {
   "codemirror_mode": {
    "name": "ipython",
    "version": 3
   },
   "file_extension": ".py",
   "mimetype": "text/x-python",
   "name": "python",
   "nbconvert_exporter": "python",
   "pygments_lexer": "ipython3",
   "version": "3.11.8"
  }
 },
 "nbformat": 4,
 "nbformat_minor": 2
}
