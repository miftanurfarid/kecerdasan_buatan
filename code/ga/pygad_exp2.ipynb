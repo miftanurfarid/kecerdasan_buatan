{
 "cells": [
  {
   "cell_type": "code",
   "execution_count": 3,
   "metadata": {},
   "outputs": [],
   "source": [
    "import pandas as pd\n",
    "import numpy as np\n",
    "import pygad"
   ]
  },
  {
   "cell_type": "code",
   "execution_count": 4,
   "metadata": {},
   "outputs": [],
   "source": [
    "data = pd.read_csv('data1.csv')"
   ]
  },
  {
   "cell_type": "code",
   "execution_count": 5,
   "metadata": {},
   "outputs": [
    {
     "data": {
      "text/html": [
       "<div>\n",
       "<style scoped>\n",
       "    .dataframe tbody tr th:only-of-type {\n",
       "        vertical-align: middle;\n",
       "    }\n",
       "\n",
       "    .dataframe tbody tr th {\n",
       "        vertical-align: top;\n",
       "    }\n",
       "\n",
       "    .dataframe thead th {\n",
       "        text-align: right;\n",
       "    }\n",
       "</style>\n",
       "<table border=\"1\" class=\"dataframe\">\n",
       "  <thead>\n",
       "    <tr style=\"text-align: right;\">\n",
       "      <th></th>\n",
       "      <th>Unnamed: 0</th>\n",
       "      <th>A</th>\n",
       "      <th>B</th>\n",
       "      <th>C</th>\n",
       "      <th>D</th>\n",
       "      <th>E</th>\n",
       "      <th>F</th>\n",
       "    </tr>\n",
       "  </thead>\n",
       "  <tbody>\n",
       "    <tr>\n",
       "      <th>0</th>\n",
       "      <td>A</td>\n",
       "      <td>0</td>\n",
       "      <td>5</td>\n",
       "      <td>6</td>\n",
       "      <td>7</td>\n",
       "      <td>8</td>\n",
       "      <td>1</td>\n",
       "    </tr>\n",
       "    <tr>\n",
       "      <th>1</th>\n",
       "      <td>B</td>\n",
       "      <td>5</td>\n",
       "      <td>0</td>\n",
       "      <td>7</td>\n",
       "      <td>8</td>\n",
       "      <td>9</td>\n",
       "      <td>2</td>\n",
       "    </tr>\n",
       "    <tr>\n",
       "      <th>2</th>\n",
       "      <td>C</td>\n",
       "      <td>6</td>\n",
       "      <td>7</td>\n",
       "      <td>0</td>\n",
       "      <td>3</td>\n",
       "      <td>2</td>\n",
       "      <td>3</td>\n",
       "    </tr>\n",
       "    <tr>\n",
       "      <th>3</th>\n",
       "      <td>D</td>\n",
       "      <td>7</td>\n",
       "      <td>8</td>\n",
       "      <td>3</td>\n",
       "      <td>0</td>\n",
       "      <td>1</td>\n",
       "      <td>4</td>\n",
       "    </tr>\n",
       "    <tr>\n",
       "      <th>4</th>\n",
       "      <td>E</td>\n",
       "      <td>8</td>\n",
       "      <td>9</td>\n",
       "      <td>2</td>\n",
       "      <td>1</td>\n",
       "      <td>0</td>\n",
       "      <td>5</td>\n",
       "    </tr>\n",
       "    <tr>\n",
       "      <th>5</th>\n",
       "      <td>F</td>\n",
       "      <td>1</td>\n",
       "      <td>2</td>\n",
       "      <td>3</td>\n",
       "      <td>4</td>\n",
       "      <td>5</td>\n",
       "      <td>0</td>\n",
       "    </tr>\n",
       "  </tbody>\n",
       "</table>\n",
       "</div>"
      ],
      "text/plain": [
       "  Unnamed: 0  A  B  C  D  E  F\n",
       "0          A  0  5  6  7  8  1\n",
       "1          B  5  0  7  8  9  2\n",
       "2          C  6  7  0  3  2  3\n",
       "3          D  7  8  3  0  1  4\n",
       "4          E  8  9  2  1  0  5\n",
       "5          F  1  2  3  4  5  0"
      ]
     },
     "execution_count": 5,
     "metadata": {},
     "output_type": "execute_result"
    }
   ],
   "source": [
    "data"
   ]
  },
  {
   "cell_type": "code",
   "execution_count": 13,
   "metadata": {},
   "outputs": [],
   "source": [
    "def cal_fitness(ga_instance, solution, solution_idx):\n",
    "    #print(solution)\n",
    "    pass\n",
    "    #min_route = np.sum(solution)\n",
    "\n",
    "    #return -min_route\n",
    "    return 0"
   ]
  },
  {
   "cell_type": "code",
   "execution_count": 14,
   "metadata": {},
   "outputs": [
    {
     "data": {
      "text/plain": [
       "6"
      ]
     },
     "execution_count": 14,
     "metadata": {},
     "output_type": "execute_result"
    }
   ],
   "source": [
    "len(data)"
   ]
  },
  {
   "cell_type": "code",
   "execution_count": 15,
   "metadata": {},
   "outputs": [],
   "source": [
    "def on_generation(ga):\n",
    "    print(\"Generation\", ga.generations_completed)\n",
    "    print(ga.population)"
   ]
  },
  {
   "cell_type": "code",
   "execution_count": 16,
   "metadata": {},
   "outputs": [
    {
     "name": "stderr",
     "output_type": "stream",
     "text": [
      "/home/fafa/miniconda3/envs/py311/lib/python3.11/site-packages/pygad/pygad.py:728: UserWarning: The percentage of genes to mutate (mutation_percent_genes=10) resulted in selecting (0) genes. The number of genes to mutate is set to 1 (mutation_num_genes=1).\n",
      "If you do not want to mutate any gene, please set mutation_type=None.\n",
      "  warnings.warn(\n",
      "/home/fafa/miniconda3/envs/py311/lib/python3.11/site-packages/pygad/pygad.py:1139: UserWarning: The 'delay_after_gen' parameter is deprecated starting from PyGAD 3.3.0. To delay or pause the evolution after each generation, assign a callback function/method to the 'on_generation' parameter to adds some time delay.\n",
      "  warnings.warn(\"The 'delay_after_gen' parameter is deprecated starting from PyGAD 3.3.0. To delay or pause the evolution after each generation, assign a callback function/method to the 'on_generation' parameter to adds some time delay.\")\n"
     ]
    }
   ],
   "source": [
    "ga_instance = pygad.GA(num_generations = 10,\n",
    "                       num_parents_mating = 2,\n",
    "                       fitness_func = cal_fitness,\n",
    "                       sol_per_pop = 10,\n",
    "                       num_genes = 5,\n",
    "                       gene_type = int,\n",
    "                       gene_space = np.arange(5),\n",
    "                       allow_duplicate_genes=False,\n",
    "                       on_generation=on_generation\n",
    "                       )"
   ]
  },
  {
   "cell_type": "code",
   "execution_count": 17,
   "metadata": {},
   "outputs": [
    {
     "name": "stdout",
     "output_type": "stream",
     "text": [
      "Generation 1\n",
      "[[0 1 4 2 3]\n",
      " [2 1 0 3 4]\n",
      " [2 0 4 3 1]\n",
      " [0 1 4 2 3]\n",
      " [3 2 4 1 0]\n",
      " [1 0 4 2 3]\n",
      " [2 3 4 1 0]\n",
      " [0 1 4 2 3]\n",
      " [0 1 4 2 3]\n",
      " [0 1 3 2 4]]\n",
      "Generation 2\n",
      "[[0 1 3 2 4]\n",
      " [0 1 3 2 4]\n",
      " [0 1 4 2 3]\n",
      " [2 1 4 0 3]\n",
      " [0 4 1 2 3]\n",
      " [0 1 3 2 4]\n",
      " [0 1 3 2 4]\n",
      " [0 1 3 2 4]\n",
      " [0 1 4 2 3]\n",
      " [0 1 3 2 4]]\n",
      "Generation 3\n",
      "[[0 1 3 2 4]\n",
      " [0 1 4 2 3]\n",
      " [0 4 1 2 3]\n",
      " [0 1 4 2 3]\n",
      " [0 1 3 2 4]\n",
      " [0 1 3 2 4]\n",
      " [1 0 3 2 4]\n",
      " [0 1 3 2 4]\n",
      " [0 1 3 2 4]\n",
      " [2 1 3 0 4]]\n",
      "Generation 4\n",
      "[[2 1 3 0 4]\n",
      " [2 1 3 0 4]\n",
      " [2 1 3 0 4]\n",
      " [3 1 2 0 4]\n",
      " [2 1 3 0 4]\n",
      " [2 1 3 0 4]\n",
      " [0 1 3 2 4]\n",
      " [2 1 3 0 4]\n",
      " [0 3 1 2 4]\n",
      " [2 1 3 0 4]]\n",
      "Generation 5\n",
      "[[2 1 3 0 4]\n",
      " [2 3 1 0 4]\n",
      " [0 3 1 2 4]\n",
      " [2 1 3 0 4]\n",
      " [3 1 2 0 4]\n",
      " [3 1 2 0 4]\n",
      " [0 1 3 2 4]\n",
      " [2 1 3 0 4]\n",
      " [0 4 3 2 1]\n",
      " [4 3 1 0 2]]\n",
      "Generation 6\n",
      "[[4 3 1 0 2]\n",
      " [0 4 3 2 1]\n",
      " [0 4 3 2 1]\n",
      " [4 3 0 2 1]\n",
      " [0 2 3 1 4]\n",
      " [4 2 0 3 1]\n",
      " [0 4 3 2 1]\n",
      " [0 4 3 2 1]\n",
      " [4 0 1 3 2]\n",
      " [4 2 0 3 1]]\n",
      "Generation 7\n",
      "[[4 2 0 3 1]\n",
      " [4 0 1 3 2]\n",
      " [4 0 1 3 2]\n",
      " [4 2 0 3 1]\n",
      " [4 0 3 2 1]\n",
      " [4 0 1 3 2]\n",
      " [4 0 1 3 2]\n",
      " [4 0 3 1 2]\n",
      " [2 4 0 3 1]\n",
      " [1 2 0 3 4]]\n",
      "Generation 8\n",
      "[[1 2 0 3 4]\n",
      " [1 0 2 3 4]\n",
      " [1 2 0 3 4]\n",
      " [1 3 0 2 4]\n",
      " [2 1 3 0 4]\n",
      " [1 2 0 3 4]\n",
      " [1 2 0 3 4]\n",
      " [2 4 3 0 1]\n",
      " [2 1 0 3 4]\n",
      " [1 2 4 3 0]]\n",
      "Generation 9\n",
      "[[1 2 4 3 0]\n",
      " [1 0 4 3 2]\n",
      " [1 2 0 3 4]\n",
      " [1 4 2 3 0]\n",
      " [1 2 3 4 0]\n",
      " [1 3 4 2 0]\n",
      " [0 1 4 3 2]\n",
      " [1 2 4 3 0]\n",
      " [2 1 0 3 4]\n",
      " [1 2 4 0 3]]\n",
      "Generation 10\n",
      "[[1 2 4 0 3]\n",
      " [1 2 4 0 3]\n",
      " [2 1 4 0 3]\n",
      " [2 1 0 3 4]\n",
      " [0 1 4 2 3]\n",
      " [1 2 0 3 4]\n",
      " [2 1 0 4 3]\n",
      " [1 2 4 3 0]\n",
      " [1 2 4 0 3]\n",
      " [1 2 0 4 3]]\n"
     ]
    }
   ],
   "source": [
    "ga_instance.run()"
   ]
  },
  {
   "cell_type": "code",
   "execution_count": null,
   "metadata": {},
   "outputs": [],
   "source": []
  }
 ],
 "metadata": {
  "kernelspec": {
   "display_name": "py311",
   "language": "python",
   "name": "python3"
  },
  "language_info": {
   "codemirror_mode": {
    "name": "ipython",
    "version": 3
   },
   "file_extension": ".py",
   "mimetype": "text/x-python",
   "name": "python",
   "nbconvert_exporter": "python",
   "pygments_lexer": "ipython3",
   "version": "3.11.8"
  }
 },
 "nbformat": 4,
 "nbformat_minor": 2
}
