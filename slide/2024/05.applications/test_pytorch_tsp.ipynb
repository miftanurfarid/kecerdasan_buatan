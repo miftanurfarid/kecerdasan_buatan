{
 "cells": [
  {
   "cell_type": "code",
   "execution_count": 26,
   "metadata": {},
   "outputs": [
    {
     "data": {
      "text/html": [
       "<div>\n",
       "<style scoped>\n",
       "    .dataframe tbody tr th:only-of-type {\n",
       "        vertical-align: middle;\n",
       "    }\n",
       "\n",
       "    .dataframe tbody tr th {\n",
       "        vertical-align: top;\n",
       "    }\n",
       "\n",
       "    .dataframe thead th {\n",
       "        text-align: right;\n",
       "    }\n",
       "</style>\n",
       "<table border=\"1\" class=\"dataframe\">\n",
       "  <thead>\n",
       "    <tr style=\"text-align: right;\">\n",
       "      <th></th>\n",
       "      <th>JARAK (KM)</th>\n",
       "      <th>ITK</th>\n",
       "      <th>INDRAKILA</th>\n",
       "      <th>GRAND CITY</th>\n",
       "      <th>MT. HARYONO</th>\n",
       "      <th>RUHUI RAHAYU</th>\n",
       "      <th>AHMAD YANI</th>\n",
       "    </tr>\n",
       "  </thead>\n",
       "  <tbody>\n",
       "    <tr>\n",
       "      <th>0</th>\n",
       "      <td>ITK</td>\n",
       "      <td>0.0</td>\n",
       "      <td>12.1</td>\n",
       "      <td>12.4</td>\n",
       "      <td>14.7</td>\n",
       "      <td>16.4</td>\n",
       "      <td>20.5</td>\n",
       "    </tr>\n",
       "    <tr>\n",
       "      <th>1</th>\n",
       "      <td>INDRAKILA</td>\n",
       "      <td>12.1</td>\n",
       "      <td>0.0</td>\n",
       "      <td>3.3</td>\n",
       "      <td>3.7</td>\n",
       "      <td>5.4</td>\n",
       "      <td>6.2</td>\n",
       "    </tr>\n",
       "    <tr>\n",
       "      <th>2</th>\n",
       "      <td>GRAND CITY</td>\n",
       "      <td>12.4</td>\n",
       "      <td>3.3</td>\n",
       "      <td>0.0</td>\n",
       "      <td>2.6</td>\n",
       "      <td>4.3</td>\n",
       "      <td>9.0</td>\n",
       "    </tr>\n",
       "    <tr>\n",
       "      <th>3</th>\n",
       "      <td>MT. HARYONO</td>\n",
       "      <td>14.7</td>\n",
       "      <td>3.7</td>\n",
       "      <td>2.6</td>\n",
       "      <td>0.0</td>\n",
       "      <td>1.7</td>\n",
       "      <td>6.8</td>\n",
       "    </tr>\n",
       "    <tr>\n",
       "      <th>4</th>\n",
       "      <td>RUHUI RAHAYU</td>\n",
       "      <td>16.4</td>\n",
       "      <td>5.4</td>\n",
       "      <td>4.3</td>\n",
       "      <td>1.8</td>\n",
       "      <td>0.0</td>\n",
       "      <td>7.9</td>\n",
       "    </tr>\n",
       "    <tr>\n",
       "      <th>5</th>\n",
       "      <td>AHMAD YANI</td>\n",
       "      <td>20.5</td>\n",
       "      <td>6.2</td>\n",
       "      <td>9.0</td>\n",
       "      <td>6.8</td>\n",
       "      <td>7.9</td>\n",
       "      <td>0.0</td>\n",
       "    </tr>\n",
       "  </tbody>\n",
       "</table>\n",
       "</div>"
      ],
      "text/plain": [
       "     JARAK (KM)   ITK  INDRAKILA  GRAND CITY  MT. HARYONO  RUHUI RAHAYU  \\\n",
       "0           ITK   0.0       12.1        12.4         14.7          16.4   \n",
       "1     INDRAKILA  12.1        0.0         3.3          3.7           5.4   \n",
       "2    GRAND CITY  12.4        3.3         0.0          2.6           4.3   \n",
       "3   MT. HARYONO  14.7        3.7         2.6          0.0           1.7   \n",
       "4  RUHUI RAHAYU  16.4        5.4         4.3          1.8           0.0   \n",
       "5    AHMAD YANI  20.5        6.2         9.0          6.8           7.9   \n",
       "\n",
       "   AHMAD YANI  \n",
       "0        20.5  \n",
       "1         6.2  \n",
       "2         9.0  \n",
       "3         6.8  \n",
       "4         7.9  \n",
       "5         0.0  "
      ]
     },
     "execution_count": 26,
     "metadata": {},
     "output_type": "execute_result"
    }
   ],
   "source": [
    "import pandas as pd\n",
    "\n",
    "data = pd.read_csv('data_janji_jiwa.csv')\n",
    "data"
   ]
  },
  {
   "cell_type": "code",
   "execution_count": 124,
   "metadata": {},
   "outputs": [],
   "source": [
    "# Fungsi merubah posisi partikel menjadi rute\n",
    "def pos2route(x):\n",
    "\n",
    "    x_sorted = torch.sort(x)\n",
    "    \n",
    "    for i in range(len(x)):\n",
    "        x[i] = x_sorted.indices[i+1]\n",
    "\n",
    "    return x\n",
    "\n",
    "# Fungsi menghitung jarak berdasarkan rute\n",
    "def cal_distance(route):\n",
    "    \"\"\"\n",
    "    distance = 0\n",
    "\n",
    "    for i in range(len(route)):\n",
    "        if i == 0:\n",
    "            distance += data.iloc[0, int(route[i])+1]\n",
    "        elif i == len(route)-1:\n",
    "            distance += data.iloc[int(route[i-1]), int(route[i])+1] + data.iloc[int(route[i]), 1]\n",
    "        else:\n",
    "            distance += data.iloc[int(route[i-1]), int(route[i])+1]\n",
    "    \"\"\" \n",
    "    distance = 2 * route\n",
    "    #print(distance)\n",
    "    \n",
    "    return distance\n",
    "\n",
    "\n",
    "# cost function\n",
    "def cal_cost(x):\n",
    "\n",
    "    x = pos2route(x)\n",
    "    print(x)\n",
    "    output = cal_distance(x)\n",
    "\n",
    "    return output"
   ]
  },
  {
   "cell_type": "code",
   "execution_count": 125,
   "metadata": {},
   "outputs": [],
   "source": [
    "import torch\n",
    "\n",
    "def minimize(cost_func, initial_parameters, iterations, learning_rate):\n",
    "    list_params = []\n",
    "    params = initial_parameters\n",
    "    params.requires_grad_()\n",
    "    optimizer = torch.optim.SGD([params], learning_rate)\n",
    "\n",
    "    for i in range(iterations):\n",
    "        print(f\"iter={i}\")\n",
    "        print(params)\n",
    "        optimizer.zero_grad()\n",
    "        print(params)\n",
    "        loss = cost_func(params)\n",
    "        print(loss)\n",
    "        loss.backward()\n",
    "        optimizer.step()\n",
    "        list_params.append(params.detach().clone())\n",
    "        \n",
    "    return params, list_params"
   ]
  },
  {
   "cell_type": "code",
   "execution_count": 126,
   "metadata": {},
   "outputs": [
    {
     "name": "stdout",
     "output_type": "stream",
     "text": [
      "iter=0\n",
      "tensor([1., 2., 3., 4., 5.], dtype=torch.float64, requires_grad=True)\n",
      "tensor([1., 2., 3., 4., 5.], dtype=torch.float64, requires_grad=True)\n"
     ]
    },
    {
     "ename": "RuntimeError",
     "evalue": "a view of a leaf Variable that requires grad is being used in an in-place operation.",
     "output_type": "error",
     "traceback": [
      "\u001b[0;31m---------------------------------------------------------------------------\u001b[0m",
      "\u001b[0;31mRuntimeError\u001b[0m                              Traceback (most recent call last)",
      "Cell \u001b[0;32mIn[126], line 4\u001b[0m\n\u001b[1;32m      2\u001b[0m starting_point \u001b[38;5;241m=\u001b[39m torch\u001b[38;5;241m.\u001b[39mtensor(np\u001b[38;5;241m.\u001b[39mfloat_(np\u001b[38;5;241m.\u001b[39marange(\u001b[38;5;241m1\u001b[39m,\u001b[38;5;241m6\u001b[39m,\u001b[38;5;241m1\u001b[39m)))\n\u001b[1;32m      3\u001b[0m learning_rate \u001b[38;5;241m=\u001b[39m \u001b[38;5;241m.1\u001b[39m\n\u001b[0;32m----> 4\u001b[0m minimized_params, list_of_params \u001b[38;5;241m=\u001b[39m minimize(cal_cost, starting_point, iterations, learning_rate)\n",
      "Cell \u001b[0;32mIn[125], line 14\u001b[0m, in \u001b[0;36mminimize\u001b[0;34m(cost_func, initial_parameters, iterations, learning_rate)\u001b[0m\n\u001b[1;32m     12\u001b[0m optimizer\u001b[38;5;241m.\u001b[39mzero_grad()\n\u001b[1;32m     13\u001b[0m \u001b[38;5;28mprint\u001b[39m(params)\n\u001b[0;32m---> 14\u001b[0m loss \u001b[38;5;241m=\u001b[39m cost_func(params)\n\u001b[1;32m     15\u001b[0m \u001b[38;5;28mprint\u001b[39m(loss)\n\u001b[1;32m     16\u001b[0m loss\u001b[38;5;241m.\u001b[39mbackward()\n",
      "Cell \u001b[0;32mIn[124], line 33\u001b[0m, in \u001b[0;36mcal_cost\u001b[0;34m(x)\u001b[0m\n\u001b[1;32m     31\u001b[0m \u001b[38;5;28;01mdef\u001b[39;00m \u001b[38;5;21mcal_cost\u001b[39m(x):\n\u001b[0;32m---> 33\u001b[0m     x \u001b[38;5;241m=\u001b[39m pos2route(x)\n\u001b[1;32m     34\u001b[0m     \u001b[38;5;28mprint\u001b[39m(x)\n\u001b[1;32m     35\u001b[0m     output \u001b[38;5;241m=\u001b[39m cal_distance(x)\n",
      "Cell \u001b[0;32mIn[124], line 7\u001b[0m, in \u001b[0;36mpos2route\u001b[0;34m(x)\u001b[0m\n\u001b[1;32m      4\u001b[0m x_sorted \u001b[38;5;241m=\u001b[39m torch\u001b[38;5;241m.\u001b[39msort(x)\n\u001b[1;32m      6\u001b[0m \u001b[38;5;28;01mfor\u001b[39;00m i \u001b[38;5;129;01min\u001b[39;00m \u001b[38;5;28mrange\u001b[39m(\u001b[38;5;28mlen\u001b[39m(x)):\n\u001b[0;32m----> 7\u001b[0m     x[i] \u001b[38;5;241m=\u001b[39m x_sorted\u001b[38;5;241m.\u001b[39mindices[i\u001b[38;5;241m+\u001b[39m\u001b[38;5;241m1\u001b[39m]\n\u001b[1;32m      9\u001b[0m \u001b[38;5;28;01mreturn\u001b[39;00m x\n",
      "\u001b[0;31mRuntimeError\u001b[0m: a view of a leaf Variable that requires grad is being used in an in-place operation."
     ]
    }
   ],
   "source": [
    "iterations = 20\n",
    "starting_point = torch.tensor(np.float_(np.arange(1,6,1)))\n",
    "learning_rate = .1\n",
    "minimized_params, list_of_params = minimize(cal_cost, starting_point, iterations, learning_rate)"
   ]
  },
  {
   "cell_type": "code",
   "execution_count": 127,
   "metadata": {},
   "outputs": [
    {
     "data": {
      "text/plain": [
       "tensor([3., 2., 6., 4., 2.], dtype=torch.float64)"
      ]
     },
     "execution_count": 127,
     "metadata": {},
     "output_type": "execute_result"
    }
   ],
   "source": [
    "starting_point = torch.tensor(np.float_(np.array([3,2,6,4,2])))\n",
    "starting_point"
   ]
  },
  {
   "cell_type": "code",
   "execution_count": 54,
   "metadata": {},
   "outputs": [
    {
     "data": {
      "text/plain": [
       "[]"
      ]
     },
     "execution_count": 54,
     "metadata": {},
     "output_type": "execute_result"
    }
   ],
   "source": [
    "list_params = []\n",
    "list_params"
   ]
  },
  {
   "cell_type": "code",
   "execution_count": 128,
   "metadata": {},
   "outputs": [
    {
     "data": {
      "text/plain": [
       "tensor([3., 2., 6., 4., 2.], dtype=torch.float64)"
      ]
     },
     "execution_count": 128,
     "metadata": {},
     "output_type": "execute_result"
    }
   ],
   "source": [
    "params = starting_point\n",
    "params"
   ]
  },
  {
   "cell_type": "code",
   "execution_count": 129,
   "metadata": {},
   "outputs": [
    {
     "data": {
      "text/plain": [
       "tensor([3., 2., 6., 4., 2.], dtype=torch.float64, requires_grad=True)"
      ]
     },
     "execution_count": 129,
     "metadata": {},
     "output_type": "execute_result"
    }
   ],
   "source": [
    "params.requires_grad_()\n",
    "params"
   ]
  },
  {
   "cell_type": "code",
   "execution_count": 130,
   "metadata": {},
   "outputs": [
    {
     "data": {
      "text/plain": [
       "SGD (\n",
       "Parameter Group 0\n",
       "    dampening: 0\n",
       "    differentiable: False\n",
       "    foreach: None\n",
       "    lr: 0.1\n",
       "    maximize: False\n",
       "    momentum: 0\n",
       "    nesterov: False\n",
       "    weight_decay: 0\n",
       ")"
      ]
     },
     "execution_count": 130,
     "metadata": {},
     "output_type": "execute_result"
    }
   ],
   "source": [
    "optimizer = torch.optim.SGD([params], learning_rate)\n",
    "optimizer"
   ]
  },
  {
   "cell_type": "code",
   "execution_count": 131,
   "metadata": {},
   "outputs": [
    {
     "data": {
      "text/plain": [
       "SGD (\n",
       "Parameter Group 0\n",
       "    dampening: 0\n",
       "    differentiable: False\n",
       "    foreach: None\n",
       "    lr: 0.1\n",
       "    maximize: False\n",
       "    momentum: 0\n",
       "    nesterov: False\n",
       "    weight_decay: 0\n",
       ")"
      ]
     },
     "execution_count": 131,
     "metadata": {},
     "output_type": "execute_result"
    }
   ],
   "source": [
    "optimizer.zero_grad()\n",
    "optimizer"
   ]
  },
  {
   "cell_type": "code",
   "execution_count": 132,
   "metadata": {},
   "outputs": [
    {
     "data": {
      "text/plain": [
       "tensor([3., 2., 6., 4., 2.], dtype=torch.float64, requires_grad=True)"
      ]
     },
     "execution_count": 132,
     "metadata": {},
     "output_type": "execute_result"
    }
   ],
   "source": [
    "params"
   ]
  },
  {
   "cell_type": "code",
   "execution_count": 134,
   "metadata": {},
   "outputs": [
    {
     "data": {
      "text/plain": [
       "torch.return_types.sort(\n",
       "values=tensor([2., 2., 3., 4., 6.], dtype=torch.float64, grad_fn=<SortBackward0>),\n",
       "indices=tensor([1, 4, 0, 3, 2]))"
      ]
     },
     "execution_count": 134,
     "metadata": {},
     "output_type": "execute_result"
    }
   ],
   "source": [
    "x_sorted = torch.sort(params)\n",
    "x_sorted"
   ]
  },
  {
   "cell_type": "code",
   "execution_count": 141,
   "metadata": {},
   "outputs": [],
   "source": [
    "x_sorted = x_sorted.indices"
   ]
  },
  {
   "cell_type": "code",
   "execution_count": 142,
   "metadata": {},
   "outputs": [
    {
     "data": {
      "text/plain": [
       "tensor([1, 4, 0, 3, 2])"
      ]
     },
     "execution_count": 142,
     "metadata": {},
     "output_type": "execute_result"
    }
   ],
   "source": [
    "x_sorted"
   ]
  },
  {
   "cell_type": "code",
   "execution_count": 137,
   "metadata": {},
   "outputs": [],
   "source": [
    "a = x_sorted.indices + 1"
   ]
  },
  {
   "cell_type": "code",
   "execution_count": 140,
   "metadata": {},
   "outputs": [
    {
     "ename": "RuntimeError",
     "evalue": "a view of a leaf Variable that requires grad is being used in an in-place operation.",
     "output_type": "error",
     "traceback": [
      "\u001b[0;31m---------------------------------------------------------------------------\u001b[0m",
      "\u001b[0;31mRuntimeError\u001b[0m                              Traceback (most recent call last)",
      "Cell \u001b[0;32mIn[140], line 2\u001b[0m\n\u001b[1;32m      1\u001b[0m \u001b[38;5;28;01mfor\u001b[39;00m i \u001b[38;5;129;01min\u001b[39;00m \u001b[38;5;28mrange\u001b[39m(\u001b[38;5;28mlen\u001b[39m(params)):\n\u001b[0;32m----> 2\u001b[0m     params[i] \u001b[38;5;241m=\u001b[39m a[i]\n",
      "\u001b[0;31mRuntimeError\u001b[0m: a view of a leaf Variable that requires grad is being used in an in-place operation."
     ]
    }
   ],
   "source": [
    "for i in range(len(params)):\n",
    "    params[i] = a[i]"
   ]
  },
  {
   "cell_type": "code",
   "execution_count": 138,
   "metadata": {},
   "outputs": [],
   "source": [
    "distance = 0\n",
    "\n",
    "for i in range(len(a)):\n",
    "    if i == 0:\n",
    "        distance += data.iloc[0, int(a[i])+1]\n",
    "    elif i == len(route)-1:\n",
    "        distance += data.iloc[int(a[i-1]), int(a[i])+1] + data.iloc[int(a[i]), 1]\n",
    "    else:\n",
    "        distance += data.iloc[int(a[i-1]), int(a[i])+1]"
   ]
  },
  {
   "cell_type": "code",
   "execution_count": 139,
   "metadata": {},
   "outputs": [
    {
     "data": {
      "text/plain": [
       "34.8"
      ]
     },
     "execution_count": 139,
     "metadata": {},
     "output_type": "execute_result"
    }
   ],
   "source": [
    "distance"
   ]
  },
  {
   "cell_type": "code",
   "execution_count": null,
   "metadata": {},
   "outputs": [],
   "source": []
  }
 ],
 "metadata": {
  "kernelspec": {
   "display_name": "py311",
   "language": "python",
   "name": "python3"
  },
  "language_info": {
   "codemirror_mode": {
    "name": "ipython",
    "version": 3
   },
   "file_extension": ".py",
   "mimetype": "text/x-python",
   "name": "python",
   "nbconvert_exporter": "python",
   "pygments_lexer": "ipython3",
   "version": "3.11.8"
  }
 },
 "nbformat": 4,
 "nbformat_minor": 2
}
