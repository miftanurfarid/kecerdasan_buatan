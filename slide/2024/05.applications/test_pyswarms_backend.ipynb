{
 "cells": [
  {
   "cell_type": "code",
   "execution_count": 3,
   "metadata": {},
   "outputs": [
    {
     "data": {
      "text/html": [
       "<div>\n",
       "<style scoped>\n",
       "    .dataframe tbody tr th:only-of-type {\n",
       "        vertical-align: middle;\n",
       "    }\n",
       "\n",
       "    .dataframe tbody tr th {\n",
       "        vertical-align: top;\n",
       "    }\n",
       "\n",
       "    .dataframe thead th {\n",
       "        text-align: right;\n",
       "    }\n",
       "</style>\n",
       "<table border=\"1\" class=\"dataframe\">\n",
       "  <thead>\n",
       "    <tr style=\"text-align: right;\">\n",
       "      <th></th>\n",
       "      <th>JARAK (KM)</th>\n",
       "      <th>ITK</th>\n",
       "      <th>INDRAKILA</th>\n",
       "      <th>GRAND CITY</th>\n",
       "      <th>MT. HARYONO</th>\n",
       "      <th>RUHUI RAHAYU</th>\n",
       "      <th>AHMAD YANI</th>\n",
       "    </tr>\n",
       "  </thead>\n",
       "  <tbody>\n",
       "    <tr>\n",
       "      <th>0</th>\n",
       "      <td>ITK</td>\n",
       "      <td>0.0</td>\n",
       "      <td>12.1</td>\n",
       "      <td>12.4</td>\n",
       "      <td>14.7</td>\n",
       "      <td>16.4</td>\n",
       "      <td>20.5</td>\n",
       "    </tr>\n",
       "    <tr>\n",
       "      <th>1</th>\n",
       "      <td>INDRAKILA</td>\n",
       "      <td>12.1</td>\n",
       "      <td>0.0</td>\n",
       "      <td>3.3</td>\n",
       "      <td>3.7</td>\n",
       "      <td>5.4</td>\n",
       "      <td>6.2</td>\n",
       "    </tr>\n",
       "    <tr>\n",
       "      <th>2</th>\n",
       "      <td>GRAND CITY</td>\n",
       "      <td>12.4</td>\n",
       "      <td>3.3</td>\n",
       "      <td>0.0</td>\n",
       "      <td>2.6</td>\n",
       "      <td>4.3</td>\n",
       "      <td>9.0</td>\n",
       "    </tr>\n",
       "    <tr>\n",
       "      <th>3</th>\n",
       "      <td>MT. HARYONO</td>\n",
       "      <td>14.7</td>\n",
       "      <td>3.7</td>\n",
       "      <td>2.6</td>\n",
       "      <td>0.0</td>\n",
       "      <td>1.7</td>\n",
       "      <td>6.8</td>\n",
       "    </tr>\n",
       "    <tr>\n",
       "      <th>4</th>\n",
       "      <td>RUHUI RAHAYU</td>\n",
       "      <td>16.4</td>\n",
       "      <td>5.4</td>\n",
       "      <td>4.3</td>\n",
       "      <td>1.8</td>\n",
       "      <td>0.0</td>\n",
       "      <td>7.9</td>\n",
       "    </tr>\n",
       "    <tr>\n",
       "      <th>5</th>\n",
       "      <td>AHMAD YANI</td>\n",
       "      <td>20.5</td>\n",
       "      <td>6.2</td>\n",
       "      <td>9.0</td>\n",
       "      <td>6.8</td>\n",
       "      <td>7.9</td>\n",
       "      <td>0.0</td>\n",
       "    </tr>\n",
       "  </tbody>\n",
       "</table>\n",
       "</div>"
      ],
      "text/plain": [
       "     JARAK (KM)   ITK  INDRAKILA  GRAND CITY  MT. HARYONO  RUHUI RAHAYU  \\\n",
       "0           ITK   0.0       12.1        12.4         14.7          16.4   \n",
       "1     INDRAKILA  12.1        0.0         3.3          3.7           5.4   \n",
       "2    GRAND CITY  12.4        3.3         0.0          2.6           4.3   \n",
       "3   MT. HARYONO  14.7        3.7         2.6          0.0           1.7   \n",
       "4  RUHUI RAHAYU  16.4        5.4         4.3          1.8           0.0   \n",
       "5    AHMAD YANI  20.5        6.2         9.0          6.8           7.9   \n",
       "\n",
       "   AHMAD YANI  \n",
       "0        20.5  \n",
       "1         6.2  \n",
       "2         9.0  \n",
       "3         6.8  \n",
       "4         7.9  \n",
       "5         0.0  "
      ]
     },
     "execution_count": 3,
     "metadata": {},
     "output_type": "execute_result"
    }
   ],
   "source": [
    "import pandas as pd\n",
    "\n",
    "data = pd.read_csv('data_janji_jiwa.csv')\n",
    "data"
   ]
  },
  {
   "cell_type": "code",
   "execution_count": 15,
   "metadata": {},
   "outputs": [],
   "source": [
    "import numpy as np\n",
    "\n",
    "import pyswarms.backend as P\n",
    "from pyswarms.backend.topology import Star"
   ]
  },
  {
   "cell_type": "code",
   "execution_count": 16,
   "metadata": {},
   "outputs": [],
   "source": [
    "def pers1(X,Y):\n",
    "    return 3*X**2 - 2*X*Y + 3*Y**2 - X - Y - 3\n",
    "\n",
    "def calculate_fitness(x):\n",
    "    output = pers1(x[:,0],x[:,1])\n",
    "\n",
    "    return output"
   ]
  },
  {
   "cell_type": "code",
   "execution_count": 8,
   "metadata": {},
   "outputs": [],
   "source": [
    "topology = Star()\n",
    "options = {'c1':.6, 'c2':.3, 'w':.4}\n",
    "swarm = P.create_swarm(n_particles=50,\n",
    "                          dimensions=2,\n",
    "                          options=options)\n",
    "iterations = 100"
   ]
  },
  {
   "cell_type": "code",
   "execution_count": 14,
   "metadata": {},
   "outputs": [
    {
     "name": "stdout",
     "output_type": "stream",
     "text": [
      "Iterasi ke-1. \t best cost: -3.25\n",
      "Iterasi ke-11. \t best cost: -3.25\n",
      "Iterasi ke-21. \t best cost: -3.25\n",
      "Iterasi ke-31. \t best cost: -3.25\n",
      "Iterasi ke-41. \t best cost: -3.25\n",
      "Iterasi ke-51. \t best cost: -3.25\n",
      "Iterasi ke-61. \t best cost: -3.25\n",
      "Iterasi ke-71. \t best cost: -3.25\n",
      "Iterasi ke-81. \t best cost: -3.25\n",
      "Iterasi ke-91. \t best cost: -3.25\n",
      "\n",
      "Nilai fitness terbaik = -3.2500\n",
      "Solusi terbaik [x1,x2] = [0.25 0.25]\n"
     ]
    }
   ],
   "source": [
    "for i in range(iterations):\n",
    "    swarm.current_cost = calculate_fitness(swarm.position)\n",
    "    swarm.pbest_cost = calculate_fitness(swarm.pbest_pos)\n",
    "    swarm.pbest_pos, swarm.pbest_cost = P.compute_pbest(swarm)\n",
    "\n",
    "    if np.min(swarm.pbest_cost) < swarm.best_cost:\n",
    "        swarm.best_pos, swarm.best_cost = topology.compute_gbest(swarm)\n",
    "\n",
    "    if i % 10 == 0:\n",
    "        print('Iterasi ke-{}. \\t best cost: {:.2f}'.format(i+1, swarm.best_cost))\n",
    "\n",
    "    swarm.velocity = topology.compute_velocity(swarm)\n",
    "    swarm.position = topology.compute_position(swarm)\n",
    "\n",
    "print('\\nNilai fitness terbaik = {:.4f}'.format(swarm.best_cost))\n",
    "print('Solusi terbaik [x1,x2] = {}'.format(swarm.best_pos))"
   ]
  },
  {
   "cell_type": "code",
   "execution_count": null,
   "metadata": {},
   "outputs": [],
   "source": []
  }
 ],
 "metadata": {
  "kernelspec": {
   "display_name": "py311",
   "language": "python",
   "name": "python3"
  },
  "language_info": {
   "codemirror_mode": {
    "name": "ipython",
    "version": 3
   },
   "file_extension": ".py",
   "mimetype": "text/x-python",
   "name": "python",
   "nbconvert_exporter": "python",
   "pygments_lexer": "ipython3",
   "version": "3.11.8"
  }
 },
 "nbformat": 4,
 "nbformat_minor": 2
}
